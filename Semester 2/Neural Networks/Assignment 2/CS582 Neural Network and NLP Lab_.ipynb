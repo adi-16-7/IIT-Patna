{
 "cells": [
  {
   "cell_type": "code",
   "execution_count": 1,
   "metadata": {},
   "outputs": [],
   "source": [
    "import pandas as pd\n",
    "import torch\n",
    "from sklearn.preprocessing import StandardScaler, OneHotEncoder\n",
    "import torch.nn as nn\n",
    "import torch.optim as optim\n",
    "from sklearn.model_selection import train_test_split"
   ]
  },
  {
   "cell_type": "code",
   "execution_count": 2,
   "metadata": {},
   "outputs": [
    {
     "name": "stdout",
     "output_type": "stream",
     "text": [
      "Using CPU\n"
     ]
    }
   ],
   "source": [
    "if torch.backends.mps.is_available():\n",
    "    device = torch.device(\"mps\")\n",
    "    print(\"Using GPU\")\n",
    "else:\n",
    "    device = torch.device(\"cpu\")\n",
    "    print(\"Using CPU\")"
   ]
  },
  {
   "cell_type": "code",
   "execution_count": 3,
   "metadata": {},
   "outputs": [],
   "source": [
    "file_path = 'customer_churn_dataset-testing-master.csv'\n",
    "df = pd.read_csv(file_path)\n",
    "\n",
    "# Drop the 'CustomerID' and 'Churn' columns (as 'CustomerID' is not a feature and 'Churn' is the label)\n",
    "features = df.drop(columns=['CustomerID', 'Churn'])\n",
    "labels = df['Churn']\n",
    "\n",
    "# Identify categorical columns\n",
    "categorical_columns = ['Gender', 'Subscription Type', 'Contract Length']\n",
    "\n",
    "# Initialize the OneHotEncoder\n",
    "encoder = OneHotEncoder(sparse_output=False)\n",
    "\n",
    "# Apply the encoder to the categorical columns\n",
    "encoded_features = encoder.fit_transform(features[categorical_columns])\n",
    "\n",
    "# Convert the encoded features back into a DataFrame\n",
    "encoded_df = pd.DataFrame(encoded_features, columns=encoder.get_feature_names_out(categorical_columns))\n",
    "\n",
    "# Concatenate the encoded columns with the original dataset (dropping the original categorical columns)\n",
    "features_encoded = pd.concat([features.drop(columns=categorical_columns).reset_index(drop=True), encoded_df], axis=1)\n",
    "\n",
    "# Split the dataset into training and testing sets (80:20)\n",
    "X_train, X_test, y_train, y_test = train_test_split(features_encoded, labels, test_size=0.2, random_state=42)\n",
    "\n",
    "# Standardize the features\n",
    "scaler = StandardScaler()\n",
    "X_train = scaler.fit_transform(X_train)\n",
    "X_test = scaler.transform(X_test)\n",
    "\n",
    "# Convert data to PyTorch tensors\n",
    "X_train_tensor = torch.tensor(X_train, dtype=torch.float32).to(device)\n",
    "X_test_tensor = torch.tensor(X_test, dtype=torch.float32).to(device)\n",
    "y_train_tensor = torch.tensor(y_train.values, dtype=torch.float32).to(device)\n",
    "y_test_tensor = torch.tensor(y_test.values, dtype=torch.float32).to(device)\n",
    "\n",
    "# Reshape y_train and y_test for PyTorch\n",
    "y_train_tensor = y_train_tensor.view(-1, 1)\n",
    "y_test_tensor = y_test_tensor.view(-1, 1)"
   ]
  },
  {
   "cell_type": "code",
   "execution_count": 4,
   "metadata": {},
   "outputs": [
    {
     "name": "stdout",
     "output_type": "stream",
     "text": [
      "Epoch [10/100], Loss: 0.3772\n",
      "Epoch [20/100], Loss: 0.3461\n",
      "Epoch [30/100], Loss: 0.3130\n",
      "Epoch [40/100], Loss: 0.2909\n",
      "Epoch [50/100], Loss: 0.2751\n",
      "Epoch [60/100], Loss: 0.2603\n",
      "Epoch [70/100], Loss: 0.2485\n",
      "Epoch [80/100], Loss: 0.2387\n",
      "Epoch [90/100], Loss: 0.2306\n",
      "Epoch [100/100], Loss: 0.2233\n"
     ]
    }
   ],
   "source": [
    "# Define the neural network with one hidden layer\n",
    "class ChurnPredictorOneHiddenLayer(nn.Module):\n",
    "    def __init__(self):\n",
    "        super(ChurnPredictorOneHiddenLayer, self).__init__()\n",
    "        self.hidden = nn.Linear(X_train_tensor.shape[1], 4096)  # Hidden layer\n",
    "        self.output = nn.Linear(4096, 1)  # Output layer\n",
    "\n",
    "    def forward(self, x):\n",
    "        x = torch.relu(self.hidden(x))\n",
    "        x = torch.sigmoid(self.output(x))\n",
    "        return x\n",
    "\n",
    "# Initialize the model, loss function, and optimizer\n",
    "model_one_layer = ChurnPredictorOneHiddenLayer().to(device)\n",
    "criterion = nn.BCELoss()\n",
    "optimizer = optim.Adam(model_one_layer.parameters(), lr=0.001)\n",
    "\n",
    "# Train the model with 100 epochs\n",
    "num_epochs = 100\n",
    "for epoch in range(num_epochs):\n",
    "    model_one_layer.train()\n",
    "    optimizer.zero_grad()\n",
    "    \n",
    "    # Forward pass\n",
    "    outputs = model_one_layer(X_train_tensor)\n",
    "    loss = criterion(outputs, y_train_tensor)\n",
    "    \n",
    "    # Backward pass and optimization\n",
    "    loss.backward()\n",
    "    optimizer.step()\n",
    "    \n",
    "    if (epoch+1) % 10 == 0:\n",
    "        print(f'Epoch [{epoch+1}/{num_epochs}], Loss: {loss.item():.4f}')\n"
   ]
  },
  {
   "cell_type": "code",
   "execution_count": 5,
   "metadata": {},
   "outputs": [
    {
     "name": "stdout",
     "output_type": "stream",
     "text": [
      "Epoch [10/50], Loss: 0.3677\n",
      "Epoch [20/50], Loss: 0.2931\n",
      "Epoch [30/50], Loss: 0.2602\n",
      "Epoch [40/50], Loss: 0.2388\n",
      "Epoch [50/50], Loss: 0.2231\n"
     ]
    }
   ],
   "source": [
    "# Define the neural network with two hidden layers\n",
    "class ChurnPredictorTwoHiddenLayers(nn.Module):\n",
    "    def __init__(self):\n",
    "        super(ChurnPredictorTwoHiddenLayers, self).__init__()\n",
    "        self.hidden1 = nn.Linear(X_train_tensor.shape[1], 4096)  # First hidden layer\n",
    "        self.hidden2 = nn.Linear(4096, 64)  # Second hidden layer\n",
    "        self.output = nn.Linear(64, 1)  # Output layer\n",
    "\n",
    "    def forward(self, x):\n",
    "        x = torch.relu(self.hidden1(x))\n",
    "        x = torch.relu(self.hidden2(x))\n",
    "        x = torch.sigmoid(self.output(x))\n",
    "        return x\n",
    "\n",
    "# Initialize the model, loss function, and optimizer\n",
    "model_two_layers = ChurnPredictorTwoHiddenLayers().to(device)\n",
    "optimizer = optim.Adam(model_two_layers.parameters(), lr=0.001)\n",
    "\n",
    "# Train the model with 50 epochs\n",
    "num_epochs = 50\n",
    "for epoch in range(num_epochs):\n",
    "    model_two_layers.train()\n",
    "    optimizer.zero_grad()\n",
    "    \n",
    "    # Forward pass\n",
    "    outputs = model_two_layers(X_train_tensor)\n",
    "    loss = criterion(outputs, y_train_tensor)\n",
    "    \n",
    "    # Backward pass and optimization\n",
    "    loss.backward()\n",
    "    optimizer.step()\n",
    "    \n",
    "    if (epoch+1) % 10 == 0:\n",
    "        print(f'Epoch [{epoch+1}/{num_epochs}], Loss: {loss.item():.4f}')\n"
   ]
  },
  {
   "cell_type": "code",
   "execution_count": 6,
   "metadata": {},
   "outputs": [
    {
     "name": "stdout",
     "output_type": "stream",
     "text": [
      "Accuracy with one hidden layer: 0.9031\n",
      "Accuracy with two hidden layers: 0.9035\n"
     ]
    }
   ],
   "source": [
    "# Evaluation function to calculate accuracy\n",
    "def evaluate_model(model, X_test_tensor, y_test_tensor):\n",
    "    model.eval()  # Set the model to evaluation mode\n",
    "    with torch.no_grad():\n",
    "        predictions = model(X_test_tensor)\n",
    "        predictions = predictions.round()  # Convert to 0 or 1\n",
    "        accuracy = (predictions.eq(y_test_tensor).sum().item()) / len(y_test_tensor)\n",
    "    return accuracy\n",
    "\n",
    "# Evaluate both models\n",
    "accuracy_one_layer = evaluate_model(model_one_layer, X_test_tensor, y_test_tensor)\n",
    "accuracy_two_layers = evaluate_model(model_two_layers, X_test_tensor, y_test_tensor)\n",
    "\n",
    "print(f'Accuracy with one hidden layer: {accuracy_one_layer:.4f}')\n",
    "print(f'Accuracy with two hidden layers: {accuracy_two_layers:.4f}')"
   ]
  },
  {
   "cell_type": "code",
   "execution_count": null,
   "metadata": {},
   "outputs": [],
   "source": []
  }
 ],
 "metadata": {
  "kernelspec": {
   "display_name": "Python 3 (ipykernel)",
   "language": "python",
   "name": "python3"
  },
  "language_info": {
   "codemirror_mode": {
    "name": "ipython",
    "version": 3
   },
   "file_extension": ".py",
   "mimetype": "text/x-python",
   "name": "python",
   "nbconvert_exporter": "python",
   "pygments_lexer": "ipython3",
   "version": "3.9.13"
  }
 },
 "nbformat": 4,
 "nbformat_minor": 2
}
